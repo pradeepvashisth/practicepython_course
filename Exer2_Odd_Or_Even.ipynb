{
 "cells": [
  {
   "cell_type": "markdown",
   "metadata": {},
   "source": [
    "# Exer_2 Odd Or Even\n",
    "Ask the user for a number. Depending on whether the number is even or odd, print out an appropriate message to the user. Hint: how does an even / odd number react differently when divided by 2?\n",
    "\n",
    "Extras:\n",
    "\n",
    "1. If the number is a multiple of 4, print out a different message.\n",
    "\n",
    "2. Ask the user for two numbers: one number to check (call it num) and one number to divide by (check). If check divides evenly into num, tell that to the user. If not, print a different appropriate message."
   ]
  },
  {
   "cell_type": "code",
   "execution_count": null,
   "metadata": {},
   "outputs": [],
   "source": []
  },
  {
   "cell_type": "code",
   "execution_count": 1,
   "metadata": {},
   "outputs": [
    {
     "name": "stdout",
     "output_type": "stream",
     "text": [
      "Please enter your first number 24\n",
      "number is even\n"
     ]
    }
   ],
   "source": [
    "num = int(input(\"Please enter your first number \"))\n",
    "if num%2==0:\n",
    "    print(\"number is even\")\n",
    "elif num%4==0:\n",
    "    print(\"number is divisible by 4\")\n",
    "else:\n",
    "    print(\"number is odd\")"
   ]
  },
  {
   "cell_type": "code",
   "execution_count": 3,
   "metadata": {},
   "outputs": [
    {
     "name": "stdout",
     "output_type": "stream",
     "text": [
      "Please enter your number to check 10\n",
      "Enter number to divide by 12\n",
      "10 does not divide evenly by 12\n"
     ]
    }
   ],
   "source": [
    "num = int(input(\"Please enter your number to check \"))\n",
    "check = int(input(\"Enter number to divide by \"))\n",
    "if num%check==0:\n",
    "    print(str(num) + \" check divides evenly into num \" + str(check))\n",
    "else:\n",
    "    print(str(num)+ \" does not divide evenly by \"+ str(check))"
   ]
  },
  {
   "cell_type": "code",
   "execution_count": null,
   "metadata": {},
   "outputs": [],
   "source": []
  }
 ],
 "metadata": {
  "kernelspec": {
   "display_name": "Python 3",
   "language": "python",
   "name": "python3"
  },
  "language_info": {
   "codemirror_mode": {
    "name": "ipython",
    "version": 3
   },
   "file_extension": ".py",
   "mimetype": "text/x-python",
   "name": "python",
   "nbconvert_exporter": "python",
   "pygments_lexer": "ipython3",
   "version": "3.6.5"
  }
 },
 "nbformat": 4,
 "nbformat_minor": 2
}
