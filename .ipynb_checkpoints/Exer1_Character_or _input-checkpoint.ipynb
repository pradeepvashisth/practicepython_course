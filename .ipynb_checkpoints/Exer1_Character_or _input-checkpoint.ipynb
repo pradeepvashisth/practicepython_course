{
 "cells": [
  {
   "cell_type": "markdown",
   "metadata": {},
   "source": [
    "## Exer_1 Character or Input\n",
    "\n",
    "Create a program that asks the user to enter their name and their age. Print out a message addressed to them that tells them the year that they will turn 100 years old."
   ]
  },
  {
   "cell_type": "code",
   "execution_count": 4,
   "metadata": {},
   "outputs": [
    {
     "name": "stdout",
     "output_type": "stream",
     "text": [
      "My name is P\n",
      "My Age is 35\n",
      "You will be 100 year old in the year 2084\n"
     ]
    }
   ],
   "source": [
    "user_name = input(\"My name is \")\n",
    "user_age= int(input(\"My Age is \"))\n",
    "Year = (2019-user_age)+100\n",
    "print(\"You will be 100 year old in the year \"+ str(Year))"
   ]
  },
  {
   "cell_type": "code",
   "execution_count": null,
   "metadata": {},
   "outputs": [],
   "source": []
  }
 ],
 "metadata": {
  "kernelspec": {
   "display_name": "Python 3",
   "language": "python",
   "name": "python3"
  },
  "language_info": {
   "codemirror_mode": {
    "name": "ipython",
    "version": 3
   },
   "file_extension": ".py",
   "mimetype": "text/x-python",
   "name": "python",
   "nbconvert_exporter": "python",
   "pygments_lexer": "ipython3",
   "version": "3.6.5"
  }
 },
 "nbformat": 4,
 "nbformat_minor": 2
}
