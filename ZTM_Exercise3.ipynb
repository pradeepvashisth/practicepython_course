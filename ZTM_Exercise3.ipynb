{
  "nbformat": 4,
  "nbformat_minor": 0,
  "metadata": {
    "colab": {
      "name": "Untitled4.ipynb",
      "provenance": [],
      "collapsed_sections": [],
      "authorship_tag": "ABX9TyPAQG/lKSz2U6PdeUgR1CBa"
    },
    "kernelspec": {
      "name": "python3",
      "display_name": "Python 3"
    }
  },
  "cells": [
    {
      "cell_type": "code",
      "metadata": {
        "id": "O292c_fHPG8L",
        "outputId": "e379074c-961b-4e39-aae1-137407568b38",
        "colab": {
          "base_uri": "https://localhost:8080/",
          "height": 54
        }
      },
      "source": [
        "'''\n",
        "age = input(\"What is your age?: \")\n",
        "\n",
        "if int(age) < 18:\n",
        "\tprint(\"Sorry, you are too young to drive this car. Powering off\")\n",
        "elif int(age) > 18:\n",
        "\tprint(\"Powering On. Enjoy the ride!\");\n",
        "elif int(age) == 18:\n",
        "\tprint(\"Congratulations on your first year of driving. Enjoy the ride!\")\n",
        "'''\n",
        "\n",
        "#1. Wrap the above code in a function called checkDriverAge(). Whenever you call this function, you will get prompted for age. \n",
        "# Notice the benefit in having checkDriverAge() instead of copying and pasting the function everytime?\n",
        "\n",
        "age = input(\"What is your age?: \")\n",
        "def checkDriverAge():\n",
        "  if int(age) < 18:\n",
        "    print(\"Sorry, you are too young to drive this car. Powering off\")\n",
        "  elif int(age) > 18:\n",
        "\t  print(\"Powering On. Enjoy the ride!\");\n",
        "  elif int(age) == 18:\n",
        "\t  print(\"Congratulations on your first year of driving. Enjoy the ride!\")\n",
        "#return checkDriverAge()\n",
        "checkDriverAge()\n"
      ],
      "execution_count": 33,
      "outputs": [
        {
          "output_type": "stream",
          "text": [
            "What is your age?: 19\n",
            "Powering On. Enjoy the ride!\n"
          ],
          "name": "stdout"
        }
      ]
    },
    {
      "cell_type": "code",
      "metadata": {
        "id": "AEUsLqvZPRpr",
        "outputId": "5453473b-dd22-448f-e527-284c9cbc4114",
        "colab": {
          "base_uri": "https://localhost:8080/",
          "height": 54
        }
      },
      "source": [
        "#2 Instead of using the input(). Now, make the checkDriverAge() function accept an argument of age, so that if you enter:\n",
        "#checkDriverAge(92);\n",
        "#it returns \"Powering On. Enjoy the ride!\"\n",
        "#also make it so that the default age is set to 0 if no argument is given.\n",
        "\n",
        "def checkDriverAge(age=0):\n",
        "  if int(age) < 18:\n",
        "    print(\"Sorry, you are too young to drive this car. Powering off\")\n",
        "  elif int(age) > 18:\n",
        "\t  print(\"Powering On. Enjoy the ride!\");\n",
        "  elif int(age) == 18:\n",
        "\t  print(\"Congratulations on your first year of driving. Enjoy the ride!\")\n",
        "\n",
        "checkDriverAge(18)\n",
        "checkDriverAge(0)"
      ],
      "execution_count": 31,
      "outputs": [
        {
          "output_type": "stream",
          "text": [
            "Congratulations on your first year of driving. Enjoy the ride!\n",
            "Sorry, you are too young to drive this car. Powering off\n"
          ],
          "name": "stdout"
        }
      ]
    },
    {
      "cell_type": "code",
      "metadata": {
        "id": "QSCGxzs9RmD-",
        "outputId": "e86557c2-204b-436c-92a7-df50bb742407",
        "colab": {
          "base_uri": "https://localhost:8080/",
          "height": 36
        }
      },
      "source": [
        "def sum(n1, n2):\n",
        "  def ano_fun(n1, n2):\n",
        "    return n1+n2\n",
        "  #return ano_fun\n",
        "  return ano_fun(n1,n2)\n",
        "\n",
        "total=sum(10,20)\n",
        "#print(total(10,20))\n",
        "print(total)"
      ],
      "execution_count": 37,
      "outputs": [
        {
          "output_type": "stream",
          "text": [
            "30\n"
          ],
          "name": "stdout"
        }
      ]
    },
    {
      "cell_type": "code",
      "metadata": {
        "id": "Uh7Jaa5Fa7S0",
        "outputId": "d9b7fd50-d14f-4b54-c697-637b30f36b0a",
        "colab": {
          "base_uri": "https://localhost:8080/",
          "height": 36
        }
      },
      "source": [
        "def sum(num1, num2):\n",
        "  def another_fun(n1,n2):\n",
        "    return n1+n2\n",
        "  return another_fun(num1,num2)\n",
        "\n",
        "total=sum(20,10)\n",
        "print(total)"
      ],
      "execution_count": 40,
      "outputs": [
        {
          "output_type": "stream",
          "text": [
            "30\n"
          ],
          "name": "stdout"
        }
      ]
    },
    {
      "cell_type": "code",
      "metadata": {
        "id": "8SpFYrb3b_4w",
        "outputId": "b543ecb0-7235-41f8-9f16-0558f42f8f43",
        "colab": {
          "base_uri": "https://localhost:8080/",
          "height": 136
        }
      },
      "source": [
        "# *args and **kwargds\n",
        "'''\n",
        "def super_fun(args):\n",
        "  return sum(args)\n",
        "\n",
        "super_fun(1,2,3,4,5)\n",
        "'''\n",
        "\n",
        "'''\n",
        "def super_fun(*args):\n",
        "  print(args)\n",
        "  return sum(args)\n",
        "\n",
        "super_fun(1,2,3,4,5)\n",
        "'''\n",
        "\n",
        "def super_fun(*args):\n",
        "  print(*args)\n",
        "  return sum(args)\n",
        "\n",
        "super_fun(1,2,3,4,5)\n"
      ],
      "execution_count": 47,
      "outputs": [
        {
          "output_type": "error",
          "ename": "SyntaxError",
          "evalue": "ignored",
          "traceback": [
            "\u001b[0;36m  File \u001b[0;32m\"<ipython-input-47-616b8322ae74>\"\u001b[0;36m, line \u001b[0;32m18\u001b[0m\n\u001b[0;31m    n=n+\u001b[0m\n\u001b[0m        ^\u001b[0m\n\u001b[0;31mSyntaxError\u001b[0m\u001b[0;31m:\u001b[0m invalid syntax\n"
          ]
        }
      ]
    },
    {
      "cell_type": "code",
      "metadata": {
        "id": "OZH762Rvf4Pu"
      },
      "source": [
        "#**kwargds\n",
        "def super_fun(*args):\n",
        "  print(*args)\n",
        "  return sum(args)\n",
        "\n",
        "super_fun(1,2,3,4,5)\n"
      ],
      "execution_count": null,
      "outputs": []
    },
    {
      "cell_type": "code",
      "metadata": {
        "id": "ZiZcIr9cYMDa",
        "outputId": "4899a344-25da-47d6-be54-7c2fa04a9c80",
        "colab": {
          "base_uri": "https://localhost:8080/",
          "height": 36
        }
      },
      "source": [
        "# create a function that will return highest even number from the list\n",
        "\n",
        "def highest_even(list_even):\n",
        "  new_list=[]\n",
        "  for values in list_even:\n",
        "    if values%2==0:\n",
        "      new_list.append(values)\n",
        "  return max(new_list)\n",
        "\n",
        "print(highest_even([2,8,10,12,14,18,13]))\n",
        "\n"
      ],
      "execution_count": 35,
      "outputs": [
        {
          "output_type": "stream",
          "text": [
            "18\n"
          ],
          "name": "stdout"
        }
      ]
    },
    {
      "cell_type": "code",
      "metadata": {
        "id": "M2ruHFKecIuY"
      },
      "source": [
        "#Given the below class:\n",
        "class Cat:\n",
        "    species = 'mammal'\n",
        "    def __init__(self, name, age):\n",
        "        self.name = name\n",
        "        self.age = age\n"
      ],
      "execution_count": null,
      "outputs": []
    },
    {
      "cell_type": "code",
      "metadata": {
        "id": "KhetBvITr6x8"
      },
      "source": [
        "# 1 Instantiate the Cat object with 3 cats\n",
        "class Cat:\n",
        "    species = 'mammal'\n",
        "    def __init__(self, name, age):\n",
        "        self.name = name\n",
        "        self.age = age\n",
        "    Cat1=Cat\n",
        "    Cat2=Cat\n",
        "    Cat3=Cat\n",
        "\n",
        "# 3 Print out: \"The oldest cat is x years old.\". x will be the oldest cat age by using the function in #2"
      ],
      "execution_count": 2,
      "outputs": []
    },
    {
      "cell_type": "code",
      "metadata": {
        "id": "oIdjmSESdEAs"
      },
      "source": [
        "\n",
        "# 2 Create a function that finds the oldest cat\n",
        "class Cat:\n",
        "    species = 'mammal'\n",
        "    def __init__(self, name, age):\n",
        "        self.name = name\n",
        "        self.age = age\n",
        "    Cat1=Cat(\"Peanut\",4)\n",
        "    Cat2=Cat(\"Garfield\",5)\n",
        "    Cat3=Cat(\"Snickers\",2)"
      ],
      "execution_count": null,
      "outputs": []
    },
    {
      "cell_type": "code",
      "metadata": {
        "id": "9URs97ckceeU",
        "outputId": "833691e5-897f-4fef-d4d8-a624bd72403c",
        "colab": {
          "base_uri": "https://localhost:8080/",
          "height": 36
        }
      },
      "source": [
        "class Cat:\n",
        "    species = 'mammal'\n",
        "    def __init__(self, name, age):\n",
        "        self.name = name\n",
        "        self.age = age\n",
        "peanut=Cat(\"Peanut\",4)\n",
        "garfield=Cat(\"Garfield\",5)\n",
        "snickers=Cat(\"Snickers\",2)\n",
        "def old(*args):\n",
        "  return max(args)\n",
        "\n",
        "print(f\"The oldest cat is {old(peanut.age,garfield.age,snickers.age)}years old.\")"
      ],
      "execution_count": 17,
      "outputs": [
        {
          "output_type": "stream",
          "text": [
            "The oldest cat is 5years old.\n"
          ],
          "name": "stdout"
        }
      ]
    },
    {
      "cell_type": "code",
      "metadata": {
        "id": "uDPvntldeUmr"
      },
      "source": [
        ""
      ],
      "execution_count": null,
      "outputs": []
    }
  ]
}